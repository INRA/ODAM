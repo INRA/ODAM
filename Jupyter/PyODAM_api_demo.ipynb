{
 "cells": [
  {
   "cell_type": "code",
   "execution_count": null,
   "metadata": {},
   "outputs": [],
   "source": [
    "# %load http://pmb-bordeaux.fr/scripts/PyODAM.py\n",
    "import requests\n",
    "import pandas as pd\n",
    "\n",
    "def getDataFromODAM(dataset, subset='', query=''):\n",
    "    # See http://pmb-bordeaux.fr/odamsw/\n",
    "    headers = {'authorization': \"Basic API Key Ommitted\", 'accept': \"text/csv\"}\n",
    "    urlcomp = 'http://pmb-bordeaux.fr/getdata/tsv/'+dataset\n",
    "    if subset:\n",
    "        urlcomp = urlcomp+'/('+subset+')'\n",
    "    if query:\n",
    "        urlcomp = urlcomp+'/'+query\n",
    "\n",
    "    ## API Call to retrieve report\n",
    "    rcomp = requests.get(urlcomp, headers=headers)\n",
    "\n",
    "    ## API Results\n",
    "    data = rcomp.text\n",
    "\n",
    "    ## Parse data into a DataFrame\n",
    "    ## see https://pandas.pydata.org/pandas-docs/stable/reference/api/pandas.DataFrame.html\n",
    "    labels = data.split('\\n')[0].split('\\t')\n",
    "    df = pd.DataFrame([x.split('\\t') for x in data.split('\\n')], columns=labels)\n",
    "    df.drop(df.index[0], inplace=True)\n",
    "    df = df.mask(df.eq('None')).dropna().reset_index()\n",
    "\n",
    "    ## Convert all variables (columns) to numeric when possible\n",
    "    ## see http://queirozf.com/entries/pandas-dataframe-examples-column-operations\n",
    "    for l in labels:\n",
    "        try:\n",
    "            df[l] = pd.to_numeric(df[l])\n",
    "        except:\n",
    "            pass\n",
    "\n",
    "    # Return Data.frame\n",
    "    return df\n",
    "\n",
    "def intersection(lst1, lst2): \n",
    "    lst3 = [value for value in lst1 if value in lst2] \n",
    "    return lst3 \n",
    "\n",
    "def getVarNum(dataframe):\n",
    "    varnum=[]\n",
    "    for l in dataframe.columns:\n",
    "        try:\n",
    "            dataframe[l] = pd.to_numeric(dataframe[l])\n",
    "            varnum.append(l)\n",
    "        except:\n",
    "            pass\n",
    "    return varnum\n",
    "\n",
    "def getSubsetFromODAM(dataset, subset='', query=''):\n",
    "    df1 = getDataFromODAM(dataset, subset, query)\n",
    "    df2 = getDataFromODAM(dataset, subset, 'identifier')\n",
    "    df3 = getDataFromODAM(dataset, subset, 'factor')\n",
    "    df4 = getDataFromODAM(dataset, subset, 'quantitative')\n",
    "    df5 = getDataFromODAM(dataset, subset, 'qualitative')\n",
    "\n",
    "    # Keep only columns that have been converted to numeric (thus removing columns with NA)\n",
    "    S = subset.split(',')\n",
    "    numvars = []\n",
    "    for s in S:\n",
    "        numvars = numvars + intersection(df4[df4.Subset==s]['Attribute'], getVarNum(df1))\n",
    "\n",
    "    list1, list2 = ['data', 'identifier', 'factor', 'quantitative', 'qualitative', 'numvars' ], \\\n",
    "                   [df1, df2, df3, df4, df5, numvars ]\n",
    "    d = dict( zip( list1, list2 ))\n",
    "    return(d)\n",
    "\n",
    "def convertDateToStr(DataNum):\n",
    "    dateStr = [ ( pd.to_datetime('1899-12-30') + pd.to_timedelta(x,'D') ).strftime(\"%m/%d/%Y\") for x in DataNum ]\n",
    "    return(dateStr)\n",
    "\n",
    "def convertTimeToStr(TimeNum):\n",
    "    timeStr = [ ( pd.to_datetime('1899-12-30') + pd.to_timedelta(x,'D') ).strftime(\"%H:%M\") for x in TimeNum ]\n",
    "    return(timeStr)\n",
    "\n"
   ]
  },
  {
   "cell_type": "code",
   "execution_count": null,
   "metadata": {},
   "outputs": [],
   "source": [
    "# Get the subset list of a dataset\n",
    "dataset = 'frim1'\n",
    "meta = getDataFromODAM(dataset)\n",
    "meta[['index', 'LinkID','Subset','Identifier', 'Description']]"
   ]
  },
  {
   "cell_type": "code",
   "execution_count": null,
   "metadata": {},
   "outputs": [],
   "source": [
    "# Get all values of a merged data subsets ( both activome & qNMR_metabofor) the specific 'sample' entry equal to 365\n",
    "subset = 'activome,qNMR_metabo'\n",
    "df = getSubsetFromODAM(dataset, subset,'sample/365?limit=10')\n",
    "data = df['data']\n",
    "\n",
    "# View all merged subset columns\n",
    "data.columns"
   ]
  },
  {
   "cell_type": "code",
   "execution_count": null,
   "metadata": {},
   "outputs": [],
   "source": [
    "# Convert both data and time in MS Excel format into String\n",
    "data.HarvestDate = convertDateToStr(data.HarvestDate)\n",
    "data.HarvestHour = convertTimeToStr(data.HarvestHour)\n",
    "data"
   ]
  },
  {
   "cell_type": "code",
   "execution_count": null,
   "metadata": {},
   "outputs": [],
   "source": [
    "# Display the variable list within the 'factor' category of a merged data subset\n",
    "df['factor']"
   ]
  },
  {
   "cell_type": "code",
   "execution_count": null,
   "metadata": {},
   "outputs": [],
   "source": [
    "# Display the variable list within the 'identifier' category of a merged data subset\n",
    "df['identifier']"
   ]
  },
  {
   "cell_type": "code",
   "execution_count": null,
   "metadata": {},
   "outputs": [],
   "source": [
    "# Display the variable list within the 'quantitative' category of a merged data subset\n",
    "quantitative = df['quantitative']\n",
    "quantitative.loc[ 0:10, ]"
   ]
  },
  {
   "cell_type": "code",
   "execution_count": null,
   "metadata": {},
   "outputs": [],
   "source": [
    "# Select the variables from the merged data belongings to the 'activome' data subset\n",
    "data[quantitative[quantitative.Subset=='activome']['Attribute']]"
   ]
  },
  {
   "cell_type": "code",
   "execution_count": null,
   "metadata": {},
   "outputs": [],
   "source": [
    "# Select the variables from the merged data belongings to the 'qNMR_metabo' data subset\n",
    "data[quantitative[quantitative.Subset=='qNMR_metabo']['Attribute']]"
   ]
  },
  {
   "cell_type": "code",
   "execution_count": null,
   "metadata": {},
   "outputs": [],
   "source": [
    "# Convert a sub-data set to numpy format\n",
    "numpy_matrix = data[quantitative[quantitative.Subset=='activome']['Attribute']].to_numpy()\n",
    "numpy_matrix "
   ]
  }
 ],
 "metadata": {
  "kernelspec": {
   "display_name": "Python 3",
   "language": "python",
   "name": "python3"
  },
  "language_info": {
   "codemirror_mode": {
    "name": "ipython",
    "version": 3
   },
   "file_extension": ".py",
   "mimetype": "text/x-python",
   "name": "python",
   "nbconvert_exporter": "python",
   "pygments_lexer": "ipython3",
   "version": "3.7.3"
  }
 },
 "nbformat": 4,
 "nbformat_minor": 2
}
